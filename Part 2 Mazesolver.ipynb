{
 "cells": [
  {
   "cell_type": "markdown",
   "metadata": {},
   "source": [
    "# Informed search algorithms: greedy and A*\n",
    "\n",
    "## 1. Heuristic in the maze problem: \n",
    "\n",
    "### DFS and BFS brute force:\n",
    "\n",
    "A difference from dfs and bfs that uses brute force to find the solution of the maze that just crawl through the whole maze until they stumble on a solution we use something more cleaver that is the heuristic search.\n",
    "\n",
    "### What is a heuristic in simple terms:\n",
    "\n",
    "Heuristics are mental shortcuts that allow people to solve problems and make judgments quickly and efficiently. These rule-of-thumb strategies shorten decision-making time and allow people to function without constantly stopping to think about their next course of action.\n",
    "\n",
    "### Heuristic Search:\n",
    "\n",
    "In mathematical optimization and computer science, heuristic is a technique designed for solving a problem more quickly when classic methods are too slow or for finding an approximate solution when classic methods fail to find any exact solution. This is achieved by trading optimality, completeness, accuracy, or precision for speed. In a way, it can be considered a shortcut.\n",
    "\n",
    "A heuristic function, also simply called a heuristic, is a function that ranks alternatives in search algorithms at each branching step based on available information to decide which branch to follow. For example, it may approximate the exact solution.\n",
    "\n",
    "### Heuristic search algorithms:\n",
    "\n",
    " The best-known of these is A*, but we’ll use the more-human-intuitive “greedy best-first” search. Like breadth-first search, best-first explores multiple paths in parallel. But rather than brute-force searching all the paths, best-first focuses on paths which are closest to the goal “as the bird flies”. Distance from the goal serves as an heuristic to steer the search.\n",
    "\n",
    "But heuristic search comes with a catch: it’s only as good as the heuristic. If we use straight-line distance from the goal as an heuristic, then heuristic search is going to work well if-and-only-if the solution path is relatively straight. If the solution path wiggles around a lot, especially on a large scale, then heuristic search won’t help much.\n",
    "\n",
    "The problem with any heuristic search is that it’s only as good as our heuristic. In particular, most heuristics are “local”: like the straight-line distance heuristic, they’re bad at accounting for large-scale problem structure. Without some knowledge of large-scale problem structure, local heuristics will lead us down many dead ends. Eventually, when we find the “right” solution, we realize in hindsight that we weren’t really solving the right problem, in some intuitive sense — more on that later.\n",
    "\n",
    "\n",
    "\n"
   ]
  },
  {
   "cell_type": "markdown",
   "metadata": {},
   "source": [
    "##  2.The greedy search algorithm\n",
    "\n",
    "Greedy is an algorithmic paradigm that builds up a solution piece by piece, always choosing the next piece that offers the most obvious and immediate benefit. So the problems where choosing locally optimal also leads to global solution are the best fit for Greedy.\n",
    "The algorithm never reverses the earlier decision even if the choice is wrong. It works in a top-down approach.\n",
    "\n",
    "GBFS is a modification of the best-first search algorithm that was first proposed by a computer scientist called Judea Pearl. GBFS is described as a search algorithm that always expands nodes with the smallest heuristic value h(n). the heuristic value h(n) refers to the distance from the node n to the goal. This distance is known as the Euclidean or Manhattan distance. GBFS keeps track of possible nodes to expand in an open list and nodes which were already expanded in a closed set. GBFS then selects the next node, that is, the node with the lowest h(n) value and expands it by inserting all successors into the open list. This process is repeated until GBFS encounters a node which is the goal.\n",
    "\n",
    "However, we can determine if the algorithm can be used with any problem if the problem has the following properties:\n",
    "\n",
    "#### 1. Greedy Choice Property\n",
    "\n",
    "If an optimal solution to the problem can be found by choosing the best choice at each step without reconsidering the previous steps once chosen, the problem can be solved using a greedy approach. This property is called greedy choice property.\n",
    "\n",
    "#### 2. Optimal Substructure\n",
    "\n",
    "If the optimal overall solution to the problem corresponds to the optimal solution to its subproblems, then the problem can be solved using a greedy approach. This property is called optimal substructure.\n",
    "\n",
    "\n"
   ]
  },
  {
   "cell_type": "code",
   "execution_count": null,
   "metadata": {},
   "outputs": [],
   "source": []
  }
 ],
 "metadata": {
  "kernelspec": {
   "display_name": "Python 3.10.7 64-bit (microsoft store)",
   "language": "python",
   "name": "python3"
  },
  "language_info": {
   "name": "python",
   "version": "3.10.7"
  },
  "orig_nbformat": 4,
  "vscode": {
   "interpreter": {
    "hash": "21b7ceebf14daf356a3d4fbc01d28c4006226d6058dc4962783d59c2bf61b385"
   }
  }
 },
 "nbformat": 4,
 "nbformat_minor": 2
}
